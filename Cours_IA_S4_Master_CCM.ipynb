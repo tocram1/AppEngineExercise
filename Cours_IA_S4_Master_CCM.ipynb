{
  "cells": [
    {
      "cell_type": "markdown",
      "metadata": {
        "id": "view-in-github",
        "colab_type": "text"
      },
      "source": [
        "<a href=\"https://colab.research.google.com/github/tocram1/AppEngineExercise/blob/master/Cours_IA_S4_Master_CCM.ipynb\" target=\"_parent\"><img src=\"https://colab.research.google.com/assets/colab-badge.svg\" alt=\"Open In Colab\"/></a>"
      ]
    },
    {
      "cell_type": "code",
      "execution_count": 9,
      "metadata": {
        "colab": {
          "base_uri": "https://localhost:8080/"
        },
        "id": "2Z8MptWI5jzV",
        "outputId": "532f1436-6ba6-46dd-8a29-cc9708dbcb8e"
      },
      "outputs": [
        {
          "output_type": "stream",
          "name": "stdout",
          "text": [
            "Looking in indexes: https://pypi.org/simple, https://us-python.pkg.dev/colab-wheels/public/simple/\n",
            "Requirement already satisfied: scipy in /usr/local/lib/python3.8/dist-packages (1.7.3)\n",
            "Requirement already satisfied: numpy<1.23.0,>=1.16.5 in /usr/local/lib/python3.8/dist-packages (from scipy) (1.21.6)\n"
          ]
        }
      ],
      "source": [
        "# On installe et charge Scipy\n",
        "%pip install scipy\n",
        "import scipy"
      ]
    },
    {
      "cell_type": "markdown",
      "source": [
        "# Premier apprentissage\n",
        "## 1. Chargement du jeu de données\n",
        "Jeux de caractères manuscrits proposé par scikitlearn\n",
        "Représentation des données"
      ],
      "metadata": {
        "id": "kwGtE0iXCCgb"
      }
    },
    {
      "cell_type": "code",
      "source": [
        "%matplotlib inline\n",
        "\n",
        "from sklearn.datasets import load_digits\n",
        "digits = load_digits()\n",
        "\n",
        "# un index quelconque\n",
        "idx = 24\n",
        "\n",
        "# list des clefs du dictionnaire\n",
        "keyList = list(digits.keys())\n",
        "print(\"Clefs : \",keyList)\n",
        "\n",
        "# représentation d'un élément dans data\n",
        "print(\"Data : \", digits.data[idx])\n",
        "\n",
        "# annotation d'un élément de data\n",
        "print(\"Annotation :\",digits.target[idx])\n",
        "\n",
        "import matplotlib.pyplot as plt\n",
        "\n",
        "plt.imshow(digits.images[idx], cmap='gray_r')\n",
        "plt.show() "
      ],
      "metadata": {
        "colab": {
          "base_uri": "https://localhost:8080/",
          "height": 369
        },
        "id": "6XzgOpmfCKI8",
        "outputId": "47a14194-4aa6-4413-99f8-5ccfca078bc2"
      },
      "execution_count": 10,
      "outputs": [
        {
          "output_type": "stream",
          "name": "stdout",
          "text": [
            "Clefs :  ['data', 'target', 'frame', 'feature_names', 'target_names', 'images', 'DESCR']\n",
            "Data :  [ 0.  0.  0.  0. 12.  2.  0.  0.  0.  0.  0.  6. 14.  1.  0.  0.  0.  0.\n",
            "  4. 16.  7.  8.  0.  0.  0.  0. 13.  9.  0. 16.  6.  0.  0.  6. 16. 10.\n",
            " 11. 16.  0.  0.  0.  0.  5. 10. 13. 16.  0.  0.  0.  0.  0.  0.  6. 16.\n",
            "  0.  0.  0.  0.  0.  0. 12.  8.  0.  0.]\n",
            "Annotation : 4\n"
          ]
        },
        {
          "output_type": "display_data",
          "data": {
            "text/plain": [
              "<Figure size 432x288 with 1 Axes>"
            ],
            "image/png": "[encoded data removed]"
          },
          "metadata": {
            "needs_background": "light"
          }
        }
      ]
    },
    {
      "cell_type": "code",
      "source": [
        "from sklearn.datasets import get_data_home\n",
        "print(get_data_home())"
      ],
      "metadata": {
        "colab": {
          "base_uri": "https://localhost:8080/"
        },
        "id": "NP9-AR42CR2B",
        "outputId": "a3b753ce-adfc-4afd-9f33-3feadb41f977"
      },
      "execution_count": 11,
      "outputs": [
        {
          "output_type": "stream",
          "name": "stdout",
          "text": [
            "/root/scikit_learn_data\n"
          ]
        }
      ]
    },
    {
      "cell_type": "markdown",
      "source": [
        "## 2. Construction du jeu de données\n",
        "Définition de la fonction split_train_test, son rôle est de mélanger le jeu de données et de le séparer en deux en fonction d'un ratio (par defaut 0.2 soit 20%). Le ratio exprime la partie réserver pour effectuer les calculs de performances du model.  \n",
        "Elle prend en paramètre d'entrèe un tableau de vecteurs, où chaque vecteur représente une données et un tableau contenant les classes correspndantes à chaque vecteurs."
      ],
      "metadata": {
        "id": "9UES8FhMCWGF"
      }
    },
    {
      "cell_type": "code",
      "source": [
        "import numpy as np\n",
        "\n",
        "def split_train_test( data, annotation, ratio=0.2, seed=42 ):\n",
        "    np.random.seed(seed)\n",
        "    liste = list(zip(data, annotation))\n",
        "    np.random.shuffle(liste)\n",
        "    data, annotation = zip(*liste)\n",
        "    size_test = int( len(data) * (1-ratio) )\n",
        "    return np.array(data[:size_test]), np.array(annotation[:size_test]),\\\n",
        "            np.array(data[size_test+1:]), np.array(annotation[size_test+1:])\n",
        "\n",
        "trainX, trainY, testX, testY = split_train_test(digits.data, digits.target)\n",
        "\n",
        "print(trainY)\n",
        "\n",
        "print(\"Taille du jeu du jeu d'apprentissage {} et taille du jeux de test {}\\n\".format(trainX.shape, testX.shape))\n",
        "\n",
        "# exemple du caractère à la position 24\n",
        "idx = 24\n",
        "print(\"Caractère à la position {} dans le jeu de données, il est annoté ({})\".format( idx, trainY[idx]))\n",
        "plt.imshow(trainX[1].reshape(8,8), cmap='gray_r')\n",
        "plt.show()"
      ],
      "metadata": {
        "colab": {
          "base_uri": "https://localhost:8080/",
          "height": 334
        },
        "id": "m49jfAK4CZUE",
        "outputId": "53a84d29-5a31-44a9-cc3b-cecd47399873"
      },
      "execution_count": 12,
      "outputs": [
        {
          "output_type": "stream",
          "name": "stdout",
          "text": [
            "[6 9 3 ... 0 7 3]\n",
            "Taille du jeu du jeu d'apprentissage (1437, 64) et taille du jeux de test (359, 64)\n",
            "\n",
            "Caractère à la position 24 dans le jeu de données, il est annoté (5)\n"
          ]
        },
        {
          "output_type": "display_data",
          "data": {
            "text/plain": [
              "<Figure size 432x288 with 1 Axes>"
            ],
            "image/png": "[encoded data removed]"
          },
          "metadata": {
            "needs_background": "light"
          }
        }
      ]
    },
    {
      "cell_type": "markdown",
      "source": [
        "## 3. Préparation des données\n",
        "Les images sont en nuance de gris sur 16 valeurs, les neuronnes de notre modèle sont de type on/off, on va donc devoir convertir nos jeux  \n",
        "Pour les annotations nous avons 10 classes la classe 0, classe 1 ... classe 9. Pour la même raison que les inputs on va devoir choisir une classe et redéfinir l'annotation à True pour la classe choisi et à False pour toutes les autres."
      ],
      "metadata": {
        "id": "udeXluPVChoZ"
      }
    },
    {
      "cell_type": "code",
      "source": [
        "def modif_input( dataset, seuil = 4 ):\n",
        "    for n in range(len(dataset)):\n",
        "        for i in range(len(dataset[n])):\n",
        "             dataset[n][i] = 1 if dataset[n][i] > seuil else 0\n",
        "    return dataset\n",
        "\n",
        "trainX = modif_input(trainX)\n",
        "testX = modif_input(testX)\n",
        "\n",
        "def modif_output( dataset, classe = 6 ):\n",
        "    dataset = np.array(list(map( lambda x: x==classe, dataset )))\n",
        "    return dataset\n",
        "\n",
        "trainY = modif_output(trainY)\n",
        "testY = modif_output(testY)\n",
        "\n",
        "# exemple du caractère à la position 24\n",
        "idx = 24\n",
        "print(\"Caractère à la position {} dans le jeu de données, il est annoté ({})\".format( idx, trainY[idx]))\n",
        "plt.imshow(trainX[0].reshape(8,8), cmap='gray_r')\n",
        "plt.show()"
      ],
      "metadata": {
        "colab": {
          "base_uri": "https://localhost:8080/",
          "height": 282
        },
        "id": "erKcqnfcCiQm",
        "outputId": "deddfa56-70cb-4e34-c31c-681eb78a85c3"
      },
      "execution_count": 13,
      "outputs": [
        {
          "output_type": "stream",
          "name": "stdout",
          "text": [
            "Caractère à la position 24 dans le jeu de données, il est annoté (False)\n"
          ]
        },
        {
          "output_type": "display_data",
          "data": {
            "text/plain": [
              "<Figure size 432x288 with 1 Axes>"
            ],
            "image/png": "[encoded data removed]"
          },
          "metadata": {
            "needs_background": "light"
          }
        }
      ]
    },
    {
      "cell_type": "markdown",
      "source": [
        "## 4. Modèle d'apprentissage basé sur HEBB\n",
        "Fonction fit pour l'apprentissage par renforcement des poids, apprentissage binaire, appartient à une classe ou n'appartient pas, retour le tableau des poids du model.  \n",
        "Fonction predict pour classer un tableau de vecteur donné."
      ],
      "metadata": {
        "id": "wXV9FXXjCmm-"
      }
    },
    {
      "cell_type": "code",
      "source": [
        "import numpy as np\n",
        "\n",
        "# apprentissage\n",
        "def fit( X, Y ):\n",
        "    weight = np.array([], float)\n",
        "    # initialisation des poids\n",
        "    for i in range(len(X[0])):\n",
        "        weight = np.append( weight, 1 )\n",
        "        \n",
        "    # pour chaque vecteur du jeu de données\n",
        "    for n in range(len(X)):\n",
        "        for i in range(len(X[n])):\n",
        "            weight[i] = weight[i] + X[n][i]*Y[n]\n",
        "        \n",
        "    return weight\n",
        "\n",
        "# classification\n",
        "def predict( X, weight, seuil = 2000 ):\n",
        "    Y = []\n",
        "    for n in range(len(X)):\n",
        "        w = 0\n",
        "        for i in range(len(X[n])):\n",
        "            w = w + X[n][i]*weight[i]\n",
        "        Y.append( w > seuil)\n",
        "    return Y"
      ],
      "metadata": {
        "id": "oep7SmcsCoeE"
      },
      "execution_count": 14,
      "outputs": []
    },
    {
      "cell_type": "markdown",
      "source": [
        "## 5. Mesure de performance\n",
        "Fonction calculant la précision et le rappel\n",
        "Fonction calculant la moyenne harmonique de la précision et du rappel"
      ],
      "metadata": {
        "id": "FdRUzYQaCrtE"
      }
    },
    {
      "cell_type": "code",
      "source": [
        "from collections import Counter\n",
        "    \n",
        "def performance( test, predic ):\n",
        "    couple = list(zip(test,predic))\n",
        "    nbrCouple = Counter(couple)\n",
        "    TruePositif = nbrCouple[(True,True)]\n",
        "    FalsePositif = nbrCouple[(False,True)]\n",
        "    TrueNegatif = nbrCouple[(False,False)]\n",
        "    FalseNegatif = nbrCouple[(True,False)]\n",
        "    preci = (TruePositif/(TruePositif+FalsePositif)) if ((TruePositif+FalsePositif)>0) else 0\n",
        "    rappel = (TruePositif/(TruePositif+FalseNegatif)) if ((TruePositif+FalseNegatif)>0) else 0\n",
        "    return preci, rappel"
      ],
      "metadata": {
        "id": "h-chVo9oCtkj"
      },
      "execution_count": 15,
      "outputs": []
    },
    {
      "cell_type": "code",
      "source": [
        "# Calcul des poids pour le jeu d'entraînement\n",
        "w = fit(trainX, trainY)\n",
        "\n",
        "print(w)\n",
        "\n",
        "# Classification du jeu de test\n",
        "prediction = predict(testX, w, 2000)\n",
        "\n",
        "# Evaluation de la performance du modèle\n",
        "preci, rappel = performance(testY, prediction)\n",
        "print(\"Précision du modèle : {:.2f}%\\nSensibilité (rappel) : {:.2f}%\"\n",
        "    .format(preci*100, rappel*100))"
      ],
      "metadata": {
        "colab": {
          "base_uri": "https://localhost:8080/"
        },
        "id": "zOeNwX2lGS_f",
        "outputId": "3362e60c-6aee-4291-a969-11e40ab09582"
      },
      "execution_count": 34,
      "outputs": [
        {
          "output_type": "stream",
          "name": "stdout",
          "text": [
            "[  1.   1.  11. 148. 111.  19.   1.   1.   1.   1. 112. 151.  87.   7.\n",
            "   2.   1.   1.   3. 141. 116.  11.   2.   1.   1.   1.  36. 148.  99.\n",
            "  44.  26.   3.   1.   1.  53. 151. 141. 138. 124.  43.   1.   1.  14.\n",
            " 151. 128.  72. 132. 131.   3.   1.   1. 145. 147.  76. 137. 139.   8.\n",
            "   1.   1.  12. 147. 151. 150.  67.   1.]\n",
            "Précision du modèle : 9.75%\n",
            "Sensibilité (rappel) : 100.00%\n"
          ]
        }
      ]
    },
    {
      "cell_type": "code",
      "source": [
        "# Fonction de score harmonique\n",
        "def score_h(preci, rappel):\n",
        "    return (2/((1/preci)+(1/rappel))) if ((preci and rappel) != 0) else 0\n",
        "\n",
        "# Fonction de score normal\n",
        "def score(preci, rappel):\n",
        "    return ((preci + rappel)/2) if ((preci and rappel) != 0) else 0"
      ],
      "metadata": {
        "id": "_pL9iUhQRF6F"
      },
      "execution_count": 32,
      "outputs": []
    },
    {
      "cell_type": "code",
      "source": [
        "seuils = range(1000, 4000)\n",
        "precisions = []\n",
        "rappels = []\n",
        "scores = []\n",
        "scoresH = []\n",
        "\n",
        "for seuil in seuils:\n",
        "    prediction = predict(testX, w, seuil)\n",
        "    preci, rappel = performance(testY, prediction)\n",
        "    precisions.append(preci)\n",
        "    rappels.append(rappel)\n",
        "    scores.append(score(preci, rappel))\n",
        "    scoresH.append(score_h(preci, rappel))\n",
        "\n",
        "plt.plot(seuils, precisions,\"r-\", label=\"Précision\")\n",
        "plt.plot(seuils, rappels, \"b-\", label=\"Rappel\")\n",
        "plt.plot(seuils, scores, \"y-.\", label=\"Moyenne\")\n",
        "plt.plot(seuils, scoresH, \"g-.\", label=\"Moyenne harmonique\")\n",
        "plt.legend()\n",
        "plt.xlabel(\"Seuil\")\n",
        "plt.show()"
      ],
      "metadata": {
        "colab": {
          "base_uri": "https://localhost:8080/",
          "height": 279
        },
        "id": "2i2vs5aeKgzO",
        "outputId": "093457c2-5d38-4946-b7a9-45b155d8e2f4"
      },
      "execution_count": 49,
      "outputs": [
        {
          "output_type": "display_data",
          "data": {
            "text/plain": [
              "<Figure size 432x288 with 1 Axes>"
            ],
            "image/png": "[encoded data removed]"
          },
          "metadata": {
            "needs_background": "light"
          }
        }
      ]
    },
    {
      "cell_type": "markdown",
      "source": [
        "## 6. Calcul de la courbe ROC"
      ],
      "metadata": {
        "id": "xhmXL0x4brSv"
      }
    },
    {
      "cell_type": "code",
      "source": [
        "rappels2 = [1 - n for n in rappels]\n",
        "\n",
        "plt.plot(rappels2, precisions, \"r-\", label=\"ROC\")\n",
        "plt.legend()\n",
        "plt.xlabel(\"1 - rappel\")\n",
        "plt.ylabel(\"précision\")\n",
        "plt.show()"
      ],
      "metadata": {
        "colab": {
          "base_uri": "https://localhost:8080/",
          "height": 279
        },
        "id": "0LnWNBUka9yS",
        "outputId": "a2b83976-cd64-4517-fe83-b79e6bb77612"
      },
      "execution_count": 50,
      "outputs": [
        {
          "output_type": "display_data",
          "data": {
            "text/plain": [
              "<Figure size 432x288 with 1 Axes>"
            ],
            "image/png": "[encoded data removed]"
          },
          "metadata": {
            "needs_background": "light"
          }
        }
      ]
    }
  ],
  "metadata": {
    "colab": {
      "provenance": [],
      "authorship_tag": "ABX9TyNcoqS5k45Pa/Vqt4tjO0KW",
      "include_colab_link": true
    },
    "gpuClass": "standard",
    "kernelspec": {
      "display_name": "Python 3",
      "name": "python3"
    },
    "language_info": {
      "name": "python"
    }
  },
  "nbformat": 4,
  "nbformat_minor": 0
}